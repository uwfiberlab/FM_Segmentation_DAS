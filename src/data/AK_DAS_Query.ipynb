{
 "cells": [
  {
   "cell_type": "markdown",
   "id": "c12a47ad",
   "metadata": {},
   "source": [
    "# Notebook for accessing GCI Alaska Data"
   ]
  },
  {
   "cell_type": "code",
   "execution_count": null,
   "id": "a94dd8f6",
   "metadata": {},
   "outputs": [],
   "source": [
    "import "
   ]
  }
 ],
 "metadata": {
  "kernelspec": {
   "display_name": "FM_DAS",
   "language": "python",
   "name": "python3"
  },
  "language_info": {
   "name": "python",
   "version": "3.11.11"
  }
 },
 "nbformat": 4,
 "nbformat_minor": 5
}
